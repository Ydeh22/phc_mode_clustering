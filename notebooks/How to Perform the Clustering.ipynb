{
 "cells": [
  {
   "cell_type": "markdown",
   "metadata": {},
   "source": [
    "**This notebook shows an example of how to use this module to cluster the field data.**\n",
    "\n",
    "This is completely analog to what was done for the actual publication. It therefore allows to reproduce the results and also to play with different clustering techniques and parameters."
   ]
  },
  {
   "cell_type": "markdown",
   "metadata": {},
   "source": [
    "# Imports"
   ]
  },
  {
   "cell_type": "code",
   "execution_count": 1,
   "metadata": {},
   "outputs": [],
   "source": [
    "%matplotlib inline\n",
    "import os\n",
    "import sys\n",
    "from copy import deepcopy\n",
    "\n",
    "import matplotlib.pyplot as plt\n",
    "import numpy as np\n",
    "import pandas as pd\n",
    "import seaborn as sns\n",
    "\n",
    "from mpl_toolkits.axes_grid1 import ImageGrid\n",
    "sns.set_context('talk')"
   ]
  },
  {
   "cell_type": "markdown",
   "metadata": {},
   "source": [
    "Import of the modules defined in the `src` module of this project."
   ]
  },
  {
   "cell_type": "code",
   "execution_count": 2,
   "metadata": {},
   "outputs": [],
   "source": [
    "# Determine the project directory and at `src` to the python path\n",
    "if not 'workbookDir' in globals():\n",
    "    workbookDir = os.getcwd()\n",
    "project_dir = os.path.normpath(os.path.join(workbookDir, os.pardir))\n",
    "sys.path.insert(0, project_dir)\n",
    "\n",
    "from src import tools, in_out, visualize as vis"
   ]
  },
  {
   "cell_type": "markdown",
   "metadata": {},
   "source": [
    "Configure logging to see log messages from the module in the desired format. "
   ]
  },
  {
   "cell_type": "code",
   "execution_count": 3,
   "metadata": {},
   "outputs": [],
   "source": [
    "import logging\n",
    "log_fmt = 'LOG: %(message)s'\n",
    "logging.basicConfig(level=logging.INFO, format=log_fmt,\n",
    "                    stream=sys.stdout)"
   ]
  },
  {
   "cell_type": "markdown",
   "metadata": {},
   "source": [
    "# Clustering"
   ]
  },
  {
   "cell_type": "markdown",
   "metadata": {},
   "source": [
    "To perform the clustering, we first load the general results from the `parameters_and_results.h5` using the `tools.get_results` function. This dataset links the input parameters (such as polarization, incident angle, ...) to simulation indices, which are then used to find the correct rows in the field database.\n",
    "\n",
    "**Note** that the full datasets are large! Loading them completely and performing the clustering will need a lot of memory, depending on the clustering technique and parameters. The `tools.get_results` function therefore allows to use only every nth angle and wavelengths, which is convenient and great for testing and to find the system limitations."
   ]
  },
  {
   "cell_type": "code",
   "execution_count": 4,
   "metadata": {},
   "outputs": [
    {
     "name": "stdout",
     "output_type": "stream",
     "text": [
      "Loading simulation data, using every 10 angles and wavelength.\n",
      "LOG: Loading parameter and result data frame\n",
      "Total number of rows is 3854\n"
     ]
    }
   ],
   "source": [
    "every = 10\n",
    "\n",
    "print 'Loading simulation data, using every', every, 'angles and wavelength.'\n",
    "sim_data_init = tools.get_results(every, every)\n",
    "print 'Total number of rows is', len(sim_data_init)"
   ]
  },
  {
   "cell_type": "markdown",
   "metadata": {},
   "source": [
    "We now loaded only every 40th wavelength and angle, which is a drastic limitation and will cause quite useless results. But the runtime will be fine and we can see if everything works out well.\n",
    "\n",
    "In the next step, we need to define the parameters for the clustering procedure. We use the `DEFAULT_SIM_DDICT` and `DEFAULT_SIM_PDICT` dictionaries defined in the `tools` module to have convenient access to the possible parameter names. Note that some of the clustering parameters are defined in this module (see the doc string of `tools.get_clustering_input_data`), while others are specific to the clustering algorithm (e.g. `n_clusters` for `MiniBatchKMeans`)."
   ]
  },
  {
   "cell_type": "code",
   "execution_count": 5,
   "metadata": {},
   "outputs": [
    {
     "name": "stdout",
     "output_type": "stream",
     "text": [
      "Setting for direction Gamma-K  and polarization TM\n",
      "Setting for direction Gamma-K  and polarization TE\n",
      "Setting for direction Gamma-M  and polarization TM\n",
      "Setting for direction Gamma-M  and polarization TE\n"
     ]
    }
   ],
   "source": [
    "# Define init parameters\n",
    "ddict = tools.DEFAULT_SIM_DDICT\n",
    "pdict = tools.DEFAULT_SIM_PDICT\n",
    "field_type = 'electric'\n",
    "cluster_type = 'MiniBatchKMeans'\n",
    "\n",
    "# Type `tools.get_clustering_input_data?` for info on these parameters\n",
    "common_clkws = dict(treat_complex=None,\n",
    "                    preprocess='normalize',\n",
    "                    random_state=0)  # <- for reproducibility\n",
    "\n",
    "# Set these defaults for all combinations of direction and polarization\n",
    "clkw_dicts = tools.defaultdict(dict)\n",
    "for direc_ in ddict:\n",
    "    for pol_ in pdict:\n",
    "        print 'Setting for direction', direc_, ' and polarization', pol_\n",
    "        clkw_dicts[direc_][pol_] = deepcopy(common_clkws)\n",
    "\n",
    "# Set individual parameters, in this case for the number of clusters\n",
    "clkw_dicts['Gamma-K']['TE']['n_clusters'] = 8\n",
    "clkw_dicts['Gamma-K']['TM']['n_clusters'] = 8\n",
    "clkw_dicts['Gamma-M']['TE']['n_clusters'] = 7\n",
    "clkw_dicts['Gamma-M']['TM']['n_clusters'] = 7\n",
    "clkw_dicts = dict(clkw_dicts)"
   ]
  },
  {
   "cell_type": "markdown",
   "metadata": {},
   "source": [
    "**Note:** To use Gaussian mixture model (GMM) clustering, as for the results in the publication, you have to change the following lines like this:\n",
    "\n",
    "```python\n",
    "cluster_type = 'GaussianMixture'\n",
    "...\n",
    "\n",
    "common_clkws = dict(covariance_type='tied',\n",
    "                    max_iter=20,\n",
    "                    treat_complex=None,\n",
    "                    preprocess='normalize',\n",
    "                    random_state=0)\n",
    "...\n",
    "\n",
    "clkw_dicts['Gamma-K']['TE']['n_components'] = 8\n",
    "clkw_dicts['Gamma-K']['TM']['n_components'] = 8\n",
    "clkw_dicts['Gamma-M']['TE']['n_components'] = 7\n",
    "clkw_dicts['Gamma-M']['TM']['n_components'] = 7\n",
    "```"
   ]
  },
  {
   "cell_type": "markdown",
   "metadata": {},
   "source": [
    "We can moreover activate caching for the functions that query the large database. This will give a huge speedup in field data loading. That means, depending on the value of `every` above, the first call of `cluster_all_modes` below will take some time. As the `MiniBatchKMeans` is incredibly fast, all the following calls will be quick. This allows to play with the parameters, e.g.~ different values for `preprocess` or different `n_clusters`. However, changing the `cluster_type` to `'GaussianMixture'`, for example, will be more time-consuming."
   ]
  },
  {
   "cell_type": "code",
   "execution_count": 6,
   "metadata": {},
   "outputs": [
    {
     "name": "stdout",
     "output_type": "stream",
     "text": [
      "LOG: Switched to using cache\n"
     ]
    }
   ],
   "source": [
    "tools.set_cache(True)"
   ]
  },
  {
   "cell_type": "markdown",
   "metadata": {},
   "source": [
    "We're all set and ready to cluster! All we have to do is to pass the initial simulation data, the clustering type, the clustering parameters and the field type to the `cluster_all_modes` function of the `tools` module. It will return enriched simulation data and the trained models."
   ]
  },
  {
   "cell_type": "code",
   "execution_count": 7,
   "metadata": {},
   "outputs": [
    {
     "name": "stdout",
     "output_type": "stream",
     "text": [
      "LOG: Clustering for Gamma-K TM\n",
      "LOG: Reducing data set for pol=TM and direction Gamma-K\n",
      "LOG: Loading sample data\n",
      "LOG: Loading time: 0:00:00.294454.\n",
      "LOG: Running MiniBatchKMeans ...\n",
      "LOG: Time for clustering: 0:00:00.407639.\n",
      "LOG: Silhouette score fit: 0.321486278427\n",
      "LOG: Calculating Euclidian distances\n",
      "LOG: Updating simulation data set.\n",
      "LOG: Finished\n",
      "LOG: Clustering for Gamma-K TE\n",
      "LOG: Reducing data set for pol=TE and direction Gamma-K\n",
      "LOG: Loading sample data\n",
      "LOG: Loading time: 0:00:00.298237.\n",
      "LOG: Running MiniBatchKMeans ...\n",
      "LOG: Time for clustering: 0:00:00.476693.\n",
      "LOG: Silhouette score fit: 0.320344495393\n",
      "LOG: Calculating Euclidian distances\n",
      "LOG: Updating simulation data set.\n",
      "LOG: Finished\n",
      "LOG: Clustering for Gamma-M TM\n",
      "LOG: Reducing data set for pol=TM and direction Gamma-M\n",
      "LOG: Loading sample data\n",
      "LOG: Collecting field data\n",
      "LOG: Loading time: 0:37:18.602521.\n",
      "LOG: Running MiniBatchKMeans ...\n",
      "LOG: Time for clustering: 0:00:00.406232.\n",
      "LOG: Silhouette score fit: 0.326807031863\n",
      "LOG: Calculating Euclidian distances\n",
      "LOG: Updating simulation data set.\n",
      "LOG: Finished\n",
      "LOG: Clustering for Gamma-M TE\n",
      "LOG: Reducing data set for pol=TE and direction Gamma-M\n",
      "LOG: Loading sample data\n",
      "LOG: Collecting field data\n",
      "LOG: Loading time: 0:36:10.710158.\n",
      "LOG: Running MiniBatchKMeans ...\n",
      "LOG: Time for clustering: 0:00:00.403592.\n",
      "LOG: Silhouette score fit: 0.419220416838\n",
      "LOG: Calculating Euclidian distances\n",
      "LOG: Updating simulation data set.\n",
      "LOG: Finished\n"
     ]
    }
   ],
   "source": [
    "sim_data, model_data = tools.cluster_all_modes(sim_data_init,\n",
    "                                               cluster_type=cluster_type,\n",
    "                                               cluster_kwargs_dicts=clkw_dicts,\n",
    "                                               field_type=field_type)"
   ]
  },
  {
   "cell_type": "markdown",
   "metadata": {},
   "source": [
    "# Implemented Plotting"
   ]
  },
  {
   "cell_type": "markdown",
   "metadata": {},
   "source": [
    "**The `visualize` module contains some utilities to conveniently achieve plots as shown in the main manuscript. We demonstrate the three main implementations here.**"
   ]
  },
  {
   "cell_type": "markdown",
   "metadata": {},
   "source": [
    "For many of the plotting routines we will need the field metadata, as the field data is stored as flat rows which need to be reshaped properly and assigned to their respective locations in 3D space. The metadata can easily be loaded using:"
   ]
  },
  {
   "cell_type": "code",
   "execution_count": 8,
   "metadata": {},
   "outputs": [
    {
     "name": "stdout",
     "output_type": "stream",
     "text": [
      "LOG: Reading metadata\n"
     ]
    }
   ],
   "source": [
    "lengths, pointlist, domain_ids = tools.get_metadata()"
   ]
  },
  {
   "cell_type": "markdown",
   "metadata": {},
   "source": [
    "We choose a subset of the clustering results from above to illustrate the plotting capabilities, in this case the $\\Gamma-K$ direction and TE polarization."
   ]
  },
  {
   "cell_type": "code",
   "execution_count": 9,
   "metadata": {},
   "outputs": [],
   "source": [
    "direc = 'Gamma-K'\n",
    "pol = 'TE'\n",
    "\n",
    "# Some derived identifiers\n",
    "ipol = tools.POLS.index(pol)\n",
    "pol_suf = tools.DEFAULT_SIM_PDICT[pol]\n",
    "\n",
    "# Selection of model and result data from the complete clustering\n",
    "model = model_data[direc][pol]['model']\n",
    "sim_nums = model_data[direc][pol]['sim_nums']\n",
    "data = sim_data.loc[sim_nums]"
   ]
  },
  {
   "cell_type": "markdown",
   "metadata": {},
   "source": [
    "As in the publication, it makes sense to look at a comparison between the field energy enhancement $E_+$ and the classification map. This can be done using the `compare_values_and_classification` method of the `visualize` module, which calls `imshow_classification_overlay` internally to create the classification map:"
   ]
  },
  {
   "cell_type": "code",
   "execution_count": 10,
   "metadata": {},
   "outputs": [
    {
     "data": {
      "image/png": "[encoded data removed]",
      "text/plain": [
       "<matplotlib.figure.Figure at 0x7fb3551a3a50>"
      ]
     },
     "metadata": {},
     "output_type": "display_data"
    }
   ],
   "source": [
    "fig = plt.figure(figsize=(12, 6))\n",
    "# The second parameter can take e.g. `E` for the field enhancement or 'r'/'t'\n",
    "# for reflectance or transmittance.\n",
    "_ = vis.compare_values_and_classification(data, 'E', pol_suf, fig,\n",
    "                                          overlay_kwargs=dict(aspect='auto'),\n",
    "                                          interpolation='none')"
   ]
  },
  {
   "cell_type": "markdown",
   "metadata": {},
   "source": [
    "The Silhouette plots are implemented as well:"
   ]
  },
  {
   "cell_type": "code",
   "execution_count": 11,
   "metadata": {},
   "outputs": [
    {
     "data": {
      "image/png": "[encoded data removed]",
      "text/plain": [
       "<matplotlib.figure.Figure at 0x7fb354f40290>"
      ]
     },
     "metadata": {},
     "output_type": "display_data"
    }
   ],
   "source": [
    "n_clusters = len(model.cluster_centers_) # Number of clusters\n",
    "\n",
    "plt.figure(figsize=(8,6))\n",
    "vis.plot_silhouettes(sim_data, pol_suf, sim_nums, ax=plt.gca(),\n",
    "                     n_clusters=n_clusters)"
   ]
  },
  {
   "cell_type": "markdown",
   "metadata": {},
   "source": [
    "Plotting of field data is a bit more involved, as we need to reshape the data properly. However, the `visualize` module comes with the `DataOnPlanes` class which simplifies the process. All we have to do is to pass the cluster centers and the metadata and the class will initialize `DataOnPlane` instances, collected in the `planes` list attribute. These planes have their own `imshow`-method which can be used for convenient plotting.\n",
    "\n",
    "The following shows how to plot the electric energy density distribution of the 0th cluster on the $xy$-plane."
   ]
  },
  {
   "cell_type": "code",
   "execution_count": 12,
   "metadata": {},
   "outputs": [
    {
     "data": {
      "image/png": "[encoded data removed]",
      "text/plain": [
       "<matplotlib.figure.Figure at 0x7fb354e518d0>"
      ]
     },
     "metadata": {},
     "output_type": "display_data"
    }
   ],
   "source": [
    "icl = 0 # index of the cluster center (i.e. label)\n",
    "mcc = model.cluster_centers_[icl]\n",
    "\n",
    "# Use the `DataOnPlanes` class for convenient restructuring of field data\n",
    "dups = vis.DataOnPlanes(mcc, pointlist, lengths, domain_ids)\n",
    "\n",
    "# Use plane Nr. 5, which is the xy-plane in this case\n",
    "plane = dups.planes[4]\n",
    "\n",
    "# Use the `imshow` method of the `DataOnPlane` instance for convenient\n",
    "# plotting\n",
    "plt.figure(figsize=(8,6))\n",
    "ax=plt.gca()\n",
    "_, im = plane.imshow('energy', ax=ax)\n",
    "\n",
    "# Some styling\n",
    "ax.set_xticks(()), ax.set_yticks(())\n",
    "ax.set_title('CC {}'.format(icl + 1))\n",
    "cb = plt.colorbar(im)\n",
    "cb.set_ticks(())\n",
    "cb.set_label('$|E|^2$')"
   ]
  },
  {
   "cell_type": "markdown",
   "metadata": {},
   "source": [
    "# Overview Plotting and Storage"
   ]
  },
  {
   "cell_type": "markdown",
   "metadata": {},
   "source": [
    "Finally, the `in_out` module comes with convenience functions for model persistence and also for storing a complete clustering result, using the `save_plots_models` method. This method will\n",
    "  1. save pickles of the actual models, that can be loaded for later use\n",
    "  2. save pickles and Excel files for the enriched simulation data, i.e. containing the initial parameters and results plus the classification data\n",
    "  3. save some basic overview plots of the classification, the fields and the Silhouettes coefficients\n",
    "All we have to pass is the simulation and model data as returned by `cluster_all_modes` method, plus the metadata in form of a dictionary and a folder path to store the data."
   ]
  },
  {
   "cell_type": "code",
   "execution_count": 13,
   "metadata": {},
   "outputs": [],
   "source": [
    "model_dir = os.path.join(tools.PROJECT_DIR, 'models')\n",
    "metadata = dict(lengths=lengths, pointlist=pointlist, domain_ids=domain_ids)"
   ]
  },
  {
   "cell_type": "code",
   "execution_count": 14,
   "metadata": {},
   "outputs": [
    {
     "name": "stdout",
     "output_type": "stream",
     "text": [
      "LOG: Saving model data and plots...\n",
      "LOG: Treating Gamma-K TM\n",
      "LOG: Saving pickles\n",
      "LOG: Plotting...\n",
      "LOG: Treating Gamma-K TE\n",
      "LOG: Saving pickles\n",
      "LOG: Plotting...\n",
      "LOG: Treating Gamma-M TM\n",
      "LOG: Saving pickles\n",
      "LOG: Plotting...\n",
      "LOG: Treating Gamma-M TE\n",
      "LOG: Saving pickles\n",
      "LOG: Plotting...\n",
      "LOG: Writing data to Excel\n",
      "LOG: Writing data to pickle\n",
      "LOG: Writing metadata to compressed numpy file.\n",
      "LOG: Finished\n"
     ]
    }
   ],
   "source": [
    "in_out.save_plots_models(model_dir, sim_data,\n",
    "                         model_data, cluster_type, metadata)"
   ]
  }
 ],
 "metadata": {
  "kernelspec": {
   "display_name": "Python 2",
   "language": "python",
   "name": "python2"
  },
  "language_info": {
   "codemirror_mode": {
    "name": "ipython",
    "version": 2
   },
   "file_extension": ".py",
   "mimetype": "text/x-python",
   "name": "python",
   "nbconvert_exporter": "python",
   "pygments_lexer": "ipython2",
   "version": "2.7.13"
  },
  "toc": {
   "nav_menu": {},
   "number_sections": true,
   "sideBar": true,
   "skip_h1_title": false,
   "toc_cell": false,
   "toc_position": {},
   "toc_section_display": "block",
   "toc_window_display": false
  }
 },
 "nbformat": 4,
 "nbformat_minor": 2
}
