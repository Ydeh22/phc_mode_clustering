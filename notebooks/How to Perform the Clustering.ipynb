{
 "cells": [
  {
   "cell_type": "markdown",
   "metadata": {},
   "source": [
    "**This notebook shows an example of how to use this module to cluster the field data.**\n",
    "\n",
    "This is completely analog to what was done for the actual publication. It therefore allows to reproduce the results and also to play with different clustering techniques and parameters."
   ]
  },
  {
   "cell_type": "markdown",
   "metadata": {},
   "source": [
    "# Imports"
   ]
  },
  {
   "cell_type": "code",
   "execution_count": 1,
   "metadata": {},
   "outputs": [],
   "source": [
    "%matplotlib inline\n",
    "import os\n",
    "import sys\n",
    "from copy import deepcopy\n",
    "\n",
    "import matplotlib.pyplot as plt\n",
    "import numpy as np\n",
    "import pandas as pd\n",
    "import seaborn as sns\n",
    "\n",
    "from mpl_toolkits.axes_grid1 import ImageGrid\n",
    "sns.set_context('notebook')"
   ]
  },
  {
   "cell_type": "markdown",
   "metadata": {},
   "source": [
    "Import of the modules defined in the `src` module of this project."
   ]
  },
  {
   "cell_type": "code",
   "execution_count": 2,
   "metadata": {},
   "outputs": [],
   "source": [
    "# Determine the project directory and at `src` to the python path\n",
    "if not 'workbookDir' in globals():\n",
    "    workbookDir = os.getcwd()\n",
    "project_dir = os.path.normpath(os.path.join(workbookDir, os.pardir))\n",
    "sys.path.insert(0, project_dir)\n",
    "\n",
    "from src import tools, in_out, visualize as vis"
   ]
  },
  {
   "cell_type": "markdown",
   "metadata": {},
   "source": [
    "# Clustering"
   ]
  },
  {
   "cell_type": "markdown",
   "metadata": {},
   "source": [
    "To perform the clustering, we first load the general results from the `parameters_and_results.h5` using the `tools.get_results` function. This dataset links the input parameters (such as polarization, incident angle, ...) to simulation indices, which are then used to find the correct rows in the field database.\n",
    "\n",
    "**Note** that the full datasets are large! Loading them completely and performing the clustering will need a lot of memory, depending on the clustering technique and parameters. The `tools.get_results` function therefore allows to use only every nth angle and wavelengths, which is convenient and great for testing and to find the system limitations."
   ]
  },
  {
   "cell_type": "code",
   "execution_count": 7,
   "metadata": {},
   "outputs": [
    {
     "name": "stdout",
     "output_type": "stream",
     "text": [
      "Loading simulation data, using every 40 angles and wavelength.\n",
      "Total number of rows is 264\n"
     ]
    }
   ],
   "source": [
    "every = 40\n",
    "\n",
    "print 'Loading simulation data, using every', every, 'angles and wavelength.'\n",
    "sim_data_init = tools.get_results(every, every)\n",
    "print 'Total number of rows is', len(sim_data_init)"
   ]
  },
  {
   "cell_type": "markdown",
   "metadata": {},
   "source": [
    "We now loaded only every 40th wavelength and angle, which is a drastic limitation and will cause quite useless results. But the runtime will be fine and we can see if everything works out well.\n",
    "\n",
    "In the next step, we need to define the parameters for the clustering procedure. We use the `DEFAULT_SIM_DDICT` and `DEFAULT_SIM_PDICT` dictionaries defined in the `tools` module to have convenient access to the possible parameter names. Note that some of the clustering parameters are defined in this module (see the doc string of `tools.get_clustering_input_data`), while others are specific to the clustering algorithm (e.g. `n_clusters` for `MiniBatchKMeans`)."
   ]
  },
  {
   "cell_type": "code",
   "execution_count": 16,
   "metadata": {},
   "outputs": [
    {
     "name": "stdout",
     "output_type": "stream",
     "text": [
      "Setting for direction Gamma-K  and polarization TM\n",
      "Setting for direction Gamma-K  and polarization TE\n",
      "Setting for direction Gamma-M  and polarization TM\n",
      "Setting for direction Gamma-M  and polarization TE\n"
     ]
    }
   ],
   "source": [
    "# Define init parameters\n",
    "ddict = tools.DEFAULT_SIM_DDICT\n",
    "pdict = tools.DEFAULT_SIM_PDICT\n",
    "field_type = 'electric'\n",
    "cluster_type = 'MiniBatchKMeans'\n",
    "\n",
    "# Type `tools.get_clustering_input_data?` for info on these parameters\n",
    "common_clkws = dict(treat_complex=None,\n",
    "                    preprocess='normalize',\n",
    "                    random_state=0)  # <- for reproducibility\n",
    "\n",
    "# Set these defaults for all combinations of direction and polarization\n",
    "clkw_dicts = tools.defaultdict(dict)\n",
    "for direc_ in ddict:\n",
    "    for pol_ in pdict:\n",
    "        print 'Setting for direction', direc_, ' and polarization', pol_\n",
    "        clkw_dicts[direc_][pol_] = deepcopy(common_clkws)\n",
    "\n",
    "# Set individual parameters, in this case for the number of clusters\n",
    "clkw_dicts['Gamma-K']['TE']['n_clusters'] = 8\n",
    "clkw_dicts['Gamma-K']['TM']['n_clusters'] = 8\n",
    "clkw_dicts['Gamma-M']['TE']['n_clusters'] = 7\n",
    "clkw_dicts['Gamma-M']['TM']['n_clusters'] = 7\n",
    "clkw_dicts = dict(clkw_dicts)"
   ]
  },
  {
   "cell_type": "markdown",
   "metadata": {},
   "source": [
    "We now set up the logging to see the desired output of the clustering procedure."
   ]
  },
  {
   "cell_type": "code",
   "execution_count": null,
   "metadata": {},
   "outputs": [],
   "source": [
    "import logging\n",
    "log_fmt = '%(asctime)s - %(levelname)s - %(message)s'\n",
    "logging.basicConfig(level=logging.DEBUG, format=log_fmt)"
   ]
  },
  {
   "cell_type": "markdown",
   "metadata": {},
   "source": [
    "We're all set and ready to cluster! All we have to do is to pass the initial simulation data, the clustering type, the clustering parameters and the field type to the `cluster_all_modes` function of the `tools` module. It will return enriched simulation data and the trained models."
   ]
  },
  {
   "cell_type": "code",
   "execution_count": 12,
   "metadata": {},
   "outputs": [
    {
     "name": "stderr",
     "output_type": "stream",
     "text": [
      "2018-04-13 12:46:22,094 - INFO - Clustering for Gamma-K TM\n",
      "2018-04-13 12:46:22,096 - INFO - Reducing data set for pol=TM and direction Gamma-K\n",
      "2018-04-13 12:46:22,098 - INFO - Loading sample data\n",
      "2018-04-13 12:46:22,100 - INFO - Collecting field data\n",
      "2018-04-13 12:46:22,101 - DEBUG - Length of `sim_numbers`: 132\n",
      "2018-04-13 12:46:22,102 - DEBUG - Opening HDF5store: /hmi/kme/workspace/code_publications/phc_mode_clustering/data/raw/field_data_E_TM.h5\n",
      "2018-04-13 12:48:23,808 - INFO - Loading time: 0:02:01.708251.\n",
      "2018-04-13 12:48:23,809 - INFO - Running MiniBatchKMeans ...\n",
      "2018-04-13 12:48:24,095 - INFO - Time for clustering: 0:00:00.284489.\n",
      "2018-04-13 12:48:24,108 - INFO - Silhouette score fit: 0.315340055811\n",
      "2018-04-13 12:48:24,111 - INFO - Calculating Euclidian distances\n",
      "2018-04-13 12:48:24,150 - INFO - Updating simulation data set.\n",
      "2018-04-13 12:48:24,158 - INFO - Finished\n",
      "2018-04-13 12:48:24,160 - INFO - Clustering for Gamma-K TE\n",
      "2018-04-13 12:48:24,168 - INFO - Reducing data set for pol=TE and direction Gamma-K\n",
      "2018-04-13 12:48:24,172 - INFO - Loading sample data\n",
      "2018-04-13 12:48:24,176 - INFO - Collecting field data\n",
      "2018-04-13 12:48:24,177 - DEBUG - Length of `sim_numbers`: 132\n",
      "2018-04-13 12:48:24,179 - DEBUG - Opening HDF5store: /hmi/kme/workspace/code_publications/phc_mode_clustering/data/raw/field_data_E_TE.h5\n",
      "2018-04-13 12:50:49,907 - INFO - Loading time: 0:02:25.731578.\n",
      "2018-04-13 12:50:49,909 - INFO - Running MiniBatchKMeans ...\n",
      "2018-04-13 12:50:50,234 - INFO - Time for clustering: 0:00:00.323261.\n",
      "2018-04-13 12:50:50,250 - INFO - Silhouette score fit: 0.301487442252\n",
      "2018-04-13 12:50:50,252 - INFO - Calculating Euclidian distances\n",
      "2018-04-13 12:50:50,298 - INFO - Updating simulation data set.\n",
      "2018-04-13 12:50:50,307 - INFO - Finished\n",
      "2018-04-13 12:50:50,323 - INFO - Clustering for Gamma-M TM\n",
      "2018-04-13 12:50:50,324 - INFO - Reducing data set for pol=TM and direction Gamma-M\n",
      "2018-04-13 12:50:50,326 - INFO - Loading sample data\n",
      "2018-04-13 12:50:50,328 - INFO - Collecting field data\n",
      "2018-04-13 12:50:50,329 - DEBUG - Length of `sim_numbers`: 132\n",
      "2018-04-13 12:50:50,330 - DEBUG - Opening HDF5store: /hmi/kme/workspace/code_publications/phc_mode_clustering/data/raw/field_data_E_TM.h5\n",
      "2018-04-13 12:52:38,554 - INFO - Loading time: 0:01:48.226541.\n",
      "2018-04-13 12:52:38,556 - INFO - Running MiniBatchKMeans ...\n",
      "2018-04-13 12:52:38,787 - INFO - Time for clustering: 0:00:00.229980.\n",
      "2018-04-13 12:52:38,798 - INFO - Silhouette score fit: 0.332633831868\n",
      "2018-04-13 12:52:38,799 - INFO - Calculating Euclidian distances\n",
      "2018-04-13 12:52:38,853 - INFO - Updating simulation data set.\n",
      "2018-04-13 12:52:38,858 - INFO - Finished\n",
      "2018-04-13 12:52:38,860 - INFO - Clustering for Gamma-M TE\n",
      "2018-04-13 12:52:38,862 - INFO - Reducing data set for pol=TE and direction Gamma-M\n",
      "2018-04-13 12:52:38,865 - INFO - Loading sample data\n",
      "2018-04-13 12:52:38,867 - INFO - Collecting field data\n",
      "2018-04-13 12:52:38,869 - DEBUG - Length of `sim_numbers`: 132\n",
      "2018-04-13 12:52:38,870 - DEBUG - Opening HDF5store: /hmi/kme/workspace/code_publications/phc_mode_clustering/data/raw/field_data_E_TE.h5\n",
      "2018-04-13 12:54:50,875 - INFO - Loading time: 0:02:12.007754.\n",
      "2018-04-13 12:54:50,876 - INFO - Running MiniBatchKMeans ...\n",
      "2018-04-13 12:54:51,125 - INFO - Time for clustering: 0:00:00.247166.\n",
      "2018-04-13 12:54:51,135 - INFO - Silhouette score fit: 0.411223009134\n",
      "2018-04-13 12:54:51,139 - INFO - Calculating Euclidian distances\n",
      "2018-04-13 12:54:51,178 - INFO - Updating simulation data set.\n",
      "2018-04-13 12:54:51,183 - INFO - Finished\n"
     ]
    }
   ],
   "source": [
    "sim_data, model_data = tools.cluster_all_modes(sim_data_init,\n",
    "                                               cluster_type=cluster_type,\n",
    "                                               cluster_kwargs_dicts=clkw_dicts,\n",
    "                                               field_type=field_type)"
   ]
  },
  {
   "cell_type": "markdown",
   "metadata": {},
   "source": [
    "# Basic Plotting and Storage"
   ]
  },
  {
   "cell_type": "markdown",
   "metadata": {},
   "source": [
    "For many of the plotting routines we will need the field metadata, as the field data is stored as flat rows which need to be reshaped properly and assigned to their respective locations in 3D space. The metadata can easily be loaded using: "
   ]
  },
  {
   "cell_type": "code",
   "execution_count": 18,
   "metadata": {},
   "outputs": [
    {
     "name": "stderr",
     "output_type": "stream",
     "text": [
      "2018-04-13 13:13:35,615 - INFO - Reading metadata\n"
     ]
    }
   ],
   "source": [
    "lengths, pointlist, domain_ids = tools.get_metadata()"
   ]
  },
  {
   "cell_type": "code",
   "execution_count": null,
   "metadata": {},
   "outputs": [],
   "source": [
    "model_dir = os.path.join(tools.PROJECT_DIR, 'models')\n",
    "metadata = dict(lengths=lengths, pointlist=pointlist, domain_ids=domain_ids)\n",
    "in_out.save_plots_models(model_dir, sim_data,\n",
    "                         model_data, cluster_type, metadata)"
   ]
  }
 ],
 "metadata": {
  "kernelspec": {
   "display_name": "Python 2",
   "language": "python",
   "name": "python2"
  },
  "language_info": {
   "codemirror_mode": {
    "name": "ipython",
    "version": 2
   },
   "file_extension": ".py",
   "mimetype": "text/x-python",
   "name": "python",
   "nbconvert_exporter": "python",
   "pygments_lexer": "ipython2",
   "version": "2.7.13"
  },
  "toc": {
   "nav_menu": {},
   "number_sections": true,
   "sideBar": true,
   "skip_h1_title": false,
   "toc_cell": false,
   "toc_position": {},
   "toc_section_display": "block",
   "toc_window_display": false
  }
 },
 "nbformat": 4,
 "nbformat_minor": 2
}
